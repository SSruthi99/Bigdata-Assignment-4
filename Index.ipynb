{
 "cells": [
  {
   "cell_type": "markdown",
   "metadata": {},
   "source": [
    "# Welcome to Jupyter!"
   ]
  },
  {
   "cell_type": "markdown",
   "metadata": {},
   "source": [
    "This repo contains an introduction to [Jupyter](https://jupyter.org) and [IPython](https://ipython.org).\n",
    "\n",
    "Outline of some basics:\n",
    "\n",
    "* [Notebook Basics](../examples/Notebook/Notebook%20Basics.ipynb)\n",
    "* [IPython - beyond plain python](../examples/IPython%20Kernel/Beyond%20Plain%20Python.ipynb)\n",
    "* [Markdown Cells](../examples/Notebook/Working%20With%20Markdown%20Cells.ipynb)\n",
    "* [Rich Display System](../examples/IPython%20Kernel/Rich%20Output.ipynb)\n",
    "* [Custom Display logic](../examples/IPython%20Kernel/Custom%20Display%20Logic.ipynb)\n",
    "* [Running a Secure Public Notebook Server](../examples/Notebook/Running%20the%20Notebook%20Server.ipynb#Securing-the-notebook-server)\n",
    "* [How Jupyter works](../examples/Notebook/Multiple%20Languages%2C%20Frontends.ipynb) to run code in different languages."
   ]
  },
  {
   "cell_type": "markdown",
   "metadata": {},
   "source": [
    "You can also get this tutorial and run it on your laptop:\n",
    "\n",
    "    git clone https://github.com/ipython/ipython-in-depth\n",
    "\n",
    "Install IPython and Jupyter:\n",
    "\n",
    "with [conda](https://www.anaconda.com/download):\n",
    "\n",
    "    conda install ipython jupyter\n",
    "\n",
    "with pip:\n",
    "\n",
    "    # first, always upgrade pip!\n",
    "    pip install --upgrade pip\n",
    "    pip install --upgrade ipython jupyter\n",
    "\n",
    "Start the notebook in the tutorial directory:\n",
    "\n",
    "    cd ipython-in-depth\n",
    "    jupyter notebook"
   ]
  },
  {
   "cell_type": "code",
   "execution_count": 1,
   "metadata": {
    "scrolled": true
   },
   "outputs": [
    {
     "name": "stdout",
     "output_type": "stream",
     "text": [
      "4\n",
      "8\n",
      "Jaccard Distance between A and B is 0.5\n",
      "4\n",
      "8\n",
      "Jaccard Distance between B and C is 0.5\n",
      "4\n",
      "8\n",
      "Jaccard Distance between A and C is 0.5\n"
     ]
    }
   ],
   "source": [
    "A=(1,1,0,1,1,0,1,1)\n",
    "B=(0,1,1,1,1,1,1,0)\n",
    "C=(1,0,1,1,0,1,1,1)\n",
    "\n",
    "def findInter(s1,s2):\n",
    "    inter=0\n",
    "    for i in range(len(s1)):\n",
    "        if(s1[i]==s2[i]==1):\n",
    "            inter=inter+1\n",
    "    return inter        \n",
    "def findUnion(s1,s2):\n",
    "    union=0\n",
    "    for i in range(len(s1)):\n",
    "        if(s1[i]==1 or s2[i]==1):\n",
    "            union=union+1\n",
    "    return union\n",
    "\n",
    "in1=findInter(A,B)\n",
    "un=findUnion(A,B)\n",
    "print(in1)\n",
    "print(un)\n",
    "jacind=in1/un\n",
    "jacdist=1-jacind\n",
    "print(\"Jaccard Distance between A and B is \"+str(jacind))\n",
    "\n",
    "in1=findInter(B,C)\n",
    "un=findUnion(B,C)\n",
    "print(in1)\n",
    "print(un)\n",
    "jacind=in1/un\n",
    "jacdist=1-jacind\n",
    "print(\"Jaccard Distance between B and C is \"+str(jacind))\n",
    "\n",
    "in1=findInter(A,C)\n",
    "un=findUnion(A,C)\n",
    "print(in1)\n",
    "print(un)\n",
    "jacind=in1/un\n",
    "jacdist=1-jacind\n",
    "print(\"Jaccard Distance between A and C is \"+str(jacind))"
   ]
  },
  {
   "cell_type": "code",
   "execution_count": 2,
   "metadata": {},
   "outputs": [
    {
     "name": "stdout",
     "output_type": "stream",
     "text": [
      "The Cosine Distance between A and B is 0.6666666666666667\n",
      "The Cosine Distance between B and C is 0.6666666666666667\n",
      "The Cosine Distance between A and C is 0.6666666666666667\n"
     ]
    }
   ],
   "source": [
    "import math\n",
    "A=(1,1,0,1,1,0,1,1)\n",
    "B=(0,1,1,1,1,1,1,0)\n",
    "C=(1,0,1,1,0,1,1,1)\n",
    "\n",
    "def findDot(s1,s2):\n",
    "    dot=0;\n",
    "    for i in range(len(s1)):\n",
    "        dot+=s1[i]*s2[i]\n",
    "    return dot\n",
    "\n",
    "num=findDot(A,B)\n",
    "den=math.sqrt(findDot(A,A))* math.sqrt(findDot(B,B))\n",
    "print(\"The Cosine Distance between A and B is \"+str(num/den))\n",
    "\n",
    "num=findDot(B,C)\n",
    "den=math.sqrt(findDot(C,C))* math.sqrt(findDot(B,B))\n",
    "print(\"The Cosine Distance between B and C is \"+str(num/den))\n",
    "\n",
    "num=findDot(A,C)\n",
    "den=math.sqrt(findDot(A,A))* math.sqrt(findDot(C,C))\n",
    "print(\"The Cosine Distance between A and C is \"+str(num/den))"
   ]
  },
  {
   "cell_type": "code",
   "execution_count": null,
   "metadata": {},
   "outputs": [],
   "source": []
  }
 ],
 "metadata": {
  "kernelspec": {
   "display_name": "Python 3",
   "language": "python",
   "name": "python3"
  },
  "language_info": {
   "codemirror_mode": {
    "name": "ipython",
    "version": 3
   },
   "file_extension": ".py",
   "mimetype": "text/x-python",
   "name": "python",
   "nbconvert_exporter": "python",
   "pygments_lexer": "ipython3",
   "version": "3.6.7"
  }
 },
 "nbformat": 4,
 "nbformat_minor": 2
}
